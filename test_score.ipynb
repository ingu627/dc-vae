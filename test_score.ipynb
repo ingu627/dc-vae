{
 "cells": [
  {
   "cell_type": "code",
   "execution_count": 1,
   "metadata": {},
   "outputs": [],
   "source": [
    "import seaborn as sns\n",
    "import matplotlib.pyplot as plt\n",
    "import numpy as np\n",
    "import pandas as pd\n",
    "from matplotlib import rc  ### 이 줄\n",
    "# import scienceplots\n",
    "\n",
    "# plt.rcParams['font.family'] = 'NanumGothic' # 'AppleGothic' # 폰트 변경\n",
    "plt.rcParams['axes.unicode_minus'] = False # 축 값 마이너스 깨짐 해결\n",
    "\n",
    "from datetime import datetime\n",
    "\n",
    "# import warnings\n",
    "# warnings.filterwarnings(\"ignore\")\n",
    "\n",
    "# plt.style.use('seaborn-deep')\n",
    "# plt.style.use(['science'])\n",
    "plt.rcParams['axes.autolimit_mode'] = 'round_numbers'\n",
    "plt.rcParams['axes.xmargin'] = 0\n",
    "plt.rcParams['axes.ymargin'] = 0\n",
    "\n",
    "%matplotlib inline"
   ]
  },
  {
   "cell_type": "code",
   "execution_count": 2,
   "metadata": {},
   "outputs": [],
   "source": [
    "from sdv.metadata import SingleTableMetadata\n",
    "\n",
    "metadata = SingleTableMetadata()"
   ]
  },
  {
   "cell_type": "code",
   "execution_count": 3,
   "metadata": {},
   "outputs": [],
   "source": [
    "from sdv.single_table import TVAESynthesizer\n",
    "\n",
    "# synthesizer = TVAESynthesizer.load(\n",
    "#     filepath='model/trained_disaster_1024.pkl'\n",
    "# )\n",
    "\n",
    "synthetic_data = pd.read_csv('data/synthetic_data.csv')\n",
    "original_data = pd.read_csv('data/original_data.csv')"
   ]
  },
  {
   "cell_type": "code",
   "execution_count": 4,
   "metadata": {},
   "outputs": [
    {
     "data": {
      "text/plain": [
       "{\n",
       "    \"METADATA_SPEC_VERSION\": \"SINGLE_TABLE_V1\",\n",
       "    \"columns\": {\n",
       "        \"tweet_id\": {\n",
       "            \"sdtype\": \"numerical\"\n",
       "        },\n",
       "        \"text_info\": {\n",
       "            \"sdtype\": \"categorical\"\n",
       "        },\n",
       "        \"text_info_conf\": {\n",
       "            \"sdtype\": \"numerical\"\n",
       "        },\n",
       "        \"text_human\": {\n",
       "            \"sdtype\": \"categorical\"\n",
       "        },\n",
       "        \"text_human_conf\": {\n",
       "            \"sdtype\": \"numerical\"\n",
       "        },\n",
       "        \"tweet_text\": {\n",
       "            \"sdtype\": \"categorical\"\n",
       "        },\n",
       "        \"category\": {\n",
       "            \"sdtype\": \"categorical\"\n",
       "        }\n",
       "    }\n",
       "}"
      ]
     },
     "execution_count": 4,
     "metadata": {},
     "output_type": "execute_result"
    }
   ],
   "source": [
    "metadata.detect_from_dataframe(data=synthetic_data)\n",
    "metadata"
   ]
  },
  {
   "cell_type": "code",
   "execution_count": 5,
   "metadata": {},
   "outputs": [
    {
     "name": "stdout",
     "output_type": "stream",
     "text": [
      "<class 'pandas.core.frame.DataFrame'>\n",
      "RangeIndex: 55383 entries, 0 to 55382\n",
      "Data columns (total 7 columns):\n",
      " #   Column           Non-Null Count  Dtype  \n",
      "---  ------           --------------  -----  \n",
      " 0   tweet_id         55383 non-null  int64  \n",
      " 1   text_info        55383 non-null  object \n",
      " 2   text_info_conf   55383 non-null  float64\n",
      " 3   text_human       55383 non-null  object \n",
      " 4   text_human_conf  55383 non-null  float64\n",
      " 5   tweet_text       55383 non-null  object \n",
      " 6   category         55383 non-null  object \n",
      "dtypes: float64(2), int64(1), object(4)\n",
      "memory usage: 3.0+ MB\n"
     ]
    }
   ],
   "source": [
    "synthetic_data.info()"
   ]
  },
  {
   "cell_type": "code",
   "execution_count": 6,
   "metadata": {},
   "outputs": [
    {
     "name": "stderr",
     "output_type": "stream",
     "text": [
      "2023-10-14 15:36:18.069795: I tensorflow/core/util/port.cc:111] oneDNN custom operations are on. You may see slightly different numerical results due to floating-point round-off errors from different computation orders. To turn them off, set the environment variable `TF_ENABLE_ONEDNN_OPTS=0`.\n",
      "2023-10-14 15:36:18.088330: E tensorflow/compiler/xla/stream_executor/cuda/cuda_dnn.cc:9342] Unable to register cuDNN factory: Attempting to register factory for plugin cuDNN when one has already been registered\n",
      "2023-10-14 15:36:18.088350: E tensorflow/compiler/xla/stream_executor/cuda/cuda_fft.cc:609] Unable to register cuFFT factory: Attempting to register factory for plugin cuFFT when one has already been registered\n",
      "2023-10-14 15:36:18.088360: E tensorflow/compiler/xla/stream_executor/cuda/cuda_blas.cc:1518] Unable to register cuBLAS factory: Attempting to register factory for plugin cuBLAS when one has already been registered\n",
      "2023-10-14 15:36:18.092086: I tensorflow/core/platform/cpu_feature_guard.cc:182] This TensorFlow binary is optimized to use available CPU instructions in performance-critical operations.\n",
      "To enable the following instructions: AVX2 AVX_VNNI FMA, in other operations, rebuild TensorFlow with the appropriate compiler flags.\n",
      "2023-10-14 15:36:18.444636: W tensorflow/compiler/tf2tensorrt/utils/py_utils.cc:38] TF-TRT Warning: Could not find TensorRT\n"
     ]
    },
    {
     "data": {
      "application/vnd.jupyter.widget-view+json": {
       "model_id": "769f4a0b54f643f09bb85b8bea489af5",
       "version_major": 2,
       "version_minor": 0
      },
      "text/plain": [
       "Downloading:   0%|          | 0.00/90.9M [00:00<?, ?B/s]"
      ]
     },
     "metadata": {},
     "output_type": "display_data"
    },
    {
     "data": {
      "application/vnd.jupyter.widget-view+json": {
       "model_id": "caa5cbb8432441fcad8d0e7981f735ac",
       "version_major": 2,
       "version_minor": 0
      },
      "text/plain": [
       "Downloading:   0%|          | 0.00/350 [00:00<?, ?B/s]"
      ]
     },
     "metadata": {},
     "output_type": "display_data"
    },
    {
     "data": {
      "application/vnd.jupyter.widget-view+json": {
       "model_id": "bc6dbc54dac54b339d2e59fe3e46a814",
       "version_major": 2,
       "version_minor": 0
      },
      "text/plain": [
       "Downloading:   0%|          | 0.00/232k [00:00<?, ?B/s]"
      ]
     },
     "metadata": {},
     "output_type": "display_data"
    },
    {
     "data": {
      "application/vnd.jupyter.widget-view+json": {
       "model_id": "9600305411304cbaade0acd73dfcc54b",
       "version_major": 2,
       "version_minor": 0
      },
      "text/plain": [
       "Downloading:   0%|          | 0.00/466k [00:00<?, ?B/s]"
      ]
     },
     "metadata": {},
     "output_type": "display_data"
    },
    {
     "data": {
      "application/vnd.jupyter.widget-view+json": {
       "model_id": "530d7b4a0709455b8f496bd7eb004cf8",
       "version_major": 2,
       "version_minor": 0
      },
      "text/plain": [
       "Downloading:   0%|          | 0.00/112 [00:00<?, ?B/s]"
      ]
     },
     "metadata": {},
     "output_type": "display_data"
    },
    {
     "name": "stdout",
     "output_type": "stream",
     "text": [
      "Comparison Score between 'rivers woods and hills' and 'streams forests and mountains': 0.84\n",
      "Comparison Score between 'rivers woods and hills' and 'deserts sand and shrubs': 0.631\n",
      "Comparison Score between 'streams forests and mountains' and 'deserts sand and shrubs': 0.576\n"
     ]
    }
   ],
   "source": [
    "from sentence_similarity import sentence_similarity\n",
    "\n",
    "def compare_sentences(sentence_1=str, sentence_2=str, model_name=str, embedding_type=\"cls_token_embedding\", metric=\"cosine\") -> str:\n",
    "    \"\"\"Utilizes an NLP model that calculates the similarity between \n",
    "    two sentences or phrases.\"\"\"\n",
    "\n",
    "    model = sentence_similarity(model_name=model_name, embedding_type=embedding_type)\n",
    "    score = model.get_score(sentence_1, sentence_2, metric=metric)\n",
    "    return(f\"Comparison Score between '{sentence_1}' and '{sentence_2}': {score}\")\n",
    "\n",
    "model_1 = \"sentence-transformers/all-MiniLM-L6-v2\"\n",
    "\n",
    "sentence_1 = \"rivers woods and hills\"\n",
    "sentence_2 = \"streams forests and mountains\"\n",
    "sentence_3 = \"deserts sand and shrubs\"\n",
    "\n",
    "print(compare_sentences(sentence_1=sentence_1, sentence_2=sentence_2, model_name=model_1)) # Yields 0.84\n",
    "print(compare_sentences(sentence_1=sentence_1, sentence_2=sentence_3, model_name=model_1)) # Yields 0.631\n",
    "print(compare_sentences(sentence_1=sentence_2, sentence_2=sentence_3, model_name=model_1)) # Yields 0.576"
   ]
  },
  {
   "cell_type": "code",
   "execution_count": null,
   "metadata": {},
   "outputs": [],
   "source": []
  }
 ],
 "metadata": {
  "kernelspec": {
   "display_name": "drl_pytorch",
   "language": "python",
   "name": "drl_pytorch"
  },
  "language_info": {
   "codemirror_mode": {
    "name": "ipython",
    "version": 3
   },
   "file_extension": ".py",
   "mimetype": "text/x-python",
   "name": "python",
   "nbconvert_exporter": "python",
   "pygments_lexer": "ipython3",
   "version": "3.9.17"
  }
 },
 "nbformat": 4,
 "nbformat_minor": 2
}
