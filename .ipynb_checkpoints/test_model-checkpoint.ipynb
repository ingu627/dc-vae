{
 "cells": [
  {
   "cell_type": "code",
   "execution_count": 1,
   "metadata": {},
   "outputs": [],
   "source": [
    "import seaborn as sns\n",
    "import matplotlib.pyplot as plt\n",
    "import numpy as np\n",
    "import pandas as pd\n",
    "from matplotlib import rc  ### 이 줄\n",
    "# import scienceplots\n",
    "\n",
    "plt.rcParams['font.family'] = 'AppleGothic' # 폰트 변경\n",
    "plt.rcParams['axes.unicode_minus'] = False # 축 값 마이너스 깨짐 해결\n",
    "\n",
    "from datetime import datetime\n",
    "\n",
    "# import warnings\n",
    "# warnings.filterwarnings(\"ignore\")\n",
    "\n",
    "# plt.style.use('seaborn-deep')\n",
    "# plt.style.use(['science'])\n",
    "plt.rcParams['axes.autolimit_mode'] = 'round_numbers'\n",
    "plt.rcParams['axes.xmargin'] = 0\n",
    "plt.rcParams['axes.ymargin'] = 0\n",
    "\n",
    "%matplotlib inline"
   ]
  },
  {
   "cell_type": "code",
   "execution_count": 2,
   "metadata": {},
   "outputs": [],
   "source": [
    "from sdv.metadata import SingleTableMetadata\n",
    "\n",
    "metadata = SingleTableMetadata()"
   ]
  },
  {
   "cell_type": "code",
   "execution_count": 3,
   "metadata": {},
   "outputs": [],
   "source": [
    "from sdv.single_table import TVAESynthesizer\n",
    "\n",
    "synthesizer = TVAESynthesizer.load(\n",
    "    filepath='model/trained_disaster_1024.pkl'\n",
    ")"
   ]
  },
  {
   "cell_type": "code",
   "execution_count": 7,
   "metadata": {},
   "outputs": [
    {
     "data": {
      "text/html": [
       "<div>\n",
       "<style scoped>\n",
       "    .dataframe tbody tr th:only-of-type {\n",
       "        vertical-align: middle;\n",
       "    }\n",
       "\n",
       "    .dataframe tbody tr th {\n",
       "        vertical-align: top;\n",
       "    }\n",
       "\n",
       "    .dataframe thead th {\n",
       "        text-align: right;\n",
       "    }\n",
       "</style>\n",
       "<table border=\"1\" class=\"dataframe\">\n",
       "  <thead>\n",
       "    <tr style=\"text-align: right;\">\n",
       "      <th></th>\n",
       "      <th>tweet_id</th>\n",
       "      <th>text_info</th>\n",
       "      <th>text_info_conf</th>\n",
       "      <th>text_human</th>\n",
       "      <th>text_human_conf</th>\n",
       "      <th>tweet_text</th>\n",
       "      <th>category</th>\n",
       "    </tr>\n",
       "  </thead>\n",
       "  <tbody>\n",
       "    <tr>\n",
       "      <th>0</th>\n",
       "      <td>874566235481994240</td>\n",
       "      <td>not_informative</td>\n",
       "      <td>1.0000</td>\n",
       "      <td>not_humanitarian</td>\n",
       "      <td>1.0000</td>\n",
       "      <td>I just had to evacuate my home in California d...</td>\n",
       "      <td>flood</td>\n",
       "    </tr>\n",
       "    <tr>\n",
       "      <th>1</th>\n",
       "      <td>910154876765076736</td>\n",
       "      <td>informative</td>\n",
       "      <td>0.3498</td>\n",
       "      <td>affected_individuals</td>\n",
       "      <td>0.3477</td>\n",
       "      <td>While SFWMD's EOC remains activated to focus o...</td>\n",
       "      <td>hurricane</td>\n",
       "    </tr>\n",
       "    <tr>\n",
       "      <th>2</th>\n",
       "      <td>904920903114737280</td>\n",
       "      <td>informative</td>\n",
       "      <td>0.7621</td>\n",
       "      <td>other_relevant_information</td>\n",
       "      <td>0.7587</td>\n",
       "      <td>RT @KleinISD: Hurricane Harvey Update from Kle...</td>\n",
       "      <td>hurricane</td>\n",
       "    </tr>\n",
       "    <tr>\n",
       "      <th>3</th>\n",
       "      <td>912214248521394432</td>\n",
       "      <td>informative</td>\n",
       "      <td>0.6893</td>\n",
       "      <td>rescue_volunteering_or_donation_effort</td>\n",
       "      <td>0.6887</td>\n",
       "      <td>CONGRATS ON HITTING YOIR GOAL GUYS, I'm sure t...</td>\n",
       "      <td>hurricane</td>\n",
       "    </tr>\n",
       "    <tr>\n",
       "      <th>4</th>\n",
       "      <td>903403759536161152</td>\n",
       "      <td>informative</td>\n",
       "      <td>0.6532</td>\n",
       "      <td>other_relevant_information</td>\n",
       "      <td>0.6652</td>\n",
       "      <td>Please join us in prayer for first responders ...</td>\n",
       "      <td>hurricane</td>\n",
       "    </tr>\n",
       "    <tr>\n",
       "      <th>...</th>\n",
       "      <td>...</td>\n",
       "      <td>...</td>\n",
       "      <td>...</td>\n",
       "      <td>...</td>\n",
       "      <td>...</td>\n",
       "      <td>...</td>\n",
       "      <td>...</td>\n",
       "    </tr>\n",
       "    <tr>\n",
       "      <th>17995</th>\n",
       "      <td>911843112086447872</td>\n",
       "      <td>informative</td>\n",
       "      <td>0.6949</td>\n",
       "      <td>other_relevant_information</td>\n",
       "      <td>0.6849</td>\n",
       "      <td>CONGRATS ON HITTING YOIR GOAL GUYS, I'm sure t...</td>\n",
       "      <td>hurricane</td>\n",
       "    </tr>\n",
       "    <tr>\n",
       "      <th>17996</th>\n",
       "      <td>909497520506128896</td>\n",
       "      <td>not_informative</td>\n",
       "      <td>1.0000</td>\n",
       "      <td>not_humanitarian</td>\n",
       "      <td>0.9999</td>\n",
       "      <td>RT @femaregion4: #FL, don't wait to clean up s...</td>\n",
       "      <td>hurricane</td>\n",
       "    </tr>\n",
       "    <tr>\n",
       "      <th>17997</th>\n",
       "      <td>930419339730254208</td>\n",
       "      <td>informative</td>\n",
       "      <td>0.6528</td>\n",
       "      <td>rescue_volunteering_or_donation_effort</td>\n",
       "      <td>0.6518</td>\n",
       "      <td>Despair as death toll jumps after massive #Ira...</td>\n",
       "      <td>earthquake</td>\n",
       "    </tr>\n",
       "    <tr>\n",
       "      <th>17998</th>\n",
       "      <td>911397006959833728</td>\n",
       "      <td>informative</td>\n",
       "      <td>1.0000</td>\n",
       "      <td>rescue_volunteering_or_donation_effort</td>\n",
       "      <td>1.0000</td>\n",
       "      <td>RT @democracynow: Mexico: Earthquake Death Tol...</td>\n",
       "      <td>earthquake</td>\n",
       "    </tr>\n",
       "    <tr>\n",
       "      <th>17999</th>\n",
       "      <td>870450830635404928</td>\n",
       "      <td>not_informative</td>\n",
       "      <td>1.0000</td>\n",
       "      <td>not_humanitarian</td>\n",
       "      <td>1.0000</td>\n",
       "      <td>I'm at RsN Ing. Planta industrial in Fernando ...</td>\n",
       "      <td>flood</td>\n",
       "    </tr>\n",
       "  </tbody>\n",
       "</table>\n",
       "<p>18000 rows × 7 columns</p>\n",
       "</div>"
      ],
      "text/plain": [
       "                 tweet_id        text_info  text_info_conf  \\\n",
       "0      874566235481994240  not_informative          1.0000   \n",
       "1      910154876765076736      informative          0.3498   \n",
       "2      904920903114737280      informative          0.7621   \n",
       "3      912214248521394432      informative          0.6893   \n",
       "4      903403759536161152      informative          0.6532   \n",
       "...                   ...              ...             ...   \n",
       "17995  911843112086447872      informative          0.6949   \n",
       "17996  909497520506128896  not_informative          1.0000   \n",
       "17997  930419339730254208      informative          0.6528   \n",
       "17998  911397006959833728      informative          1.0000   \n",
       "17999  870450830635404928  not_informative          1.0000   \n",
       "\n",
       "                                   text_human  text_human_conf  \\\n",
       "0                            not_humanitarian           1.0000   \n",
       "1                        affected_individuals           0.3477   \n",
       "2                  other_relevant_information           0.7587   \n",
       "3      rescue_volunteering_or_donation_effort           0.6887   \n",
       "4                  other_relevant_information           0.6652   \n",
       "...                                       ...              ...   \n",
       "17995              other_relevant_information           0.6849   \n",
       "17996                        not_humanitarian           0.9999   \n",
       "17997  rescue_volunteering_or_donation_effort           0.6518   \n",
       "17998  rescue_volunteering_or_donation_effort           1.0000   \n",
       "17999                        not_humanitarian           1.0000   \n",
       "\n",
       "                                              tweet_text    category  \n",
       "0      I just had to evacuate my home in California d...       flood  \n",
       "1      While SFWMD's EOC remains activated to focus o...   hurricane  \n",
       "2      RT @KleinISD: Hurricane Harvey Update from Kle...   hurricane  \n",
       "3      CONGRATS ON HITTING YOIR GOAL GUYS, I'm sure t...   hurricane  \n",
       "4      Please join us in prayer for first responders ...   hurricane  \n",
       "...                                                  ...         ...  \n",
       "17995  CONGRATS ON HITTING YOIR GOAL GUYS, I'm sure t...   hurricane  \n",
       "17996  RT @femaregion4: #FL, don't wait to clean up s...   hurricane  \n",
       "17997  Despair as death toll jumps after massive #Ira...  earthquake  \n",
       "17998  RT @democracynow: Mexico: Earthquake Death Tol...  earthquake  \n",
       "17999  I'm at RsN Ing. Planta industrial in Fernando ...       flood  \n",
       "\n",
       "[18000 rows x 7 columns]"
      ]
     },
     "execution_count": 7,
     "metadata": {},
     "output_type": "execute_result"
    }
   ],
   "source": [
    "synthetic_data = synthesizer.sample(num_rows=18000) # 200000\n",
    "synthetic_data"
   ]
  },
  {
   "cell_type": "code",
   "execution_count": 9,
   "metadata": {},
   "outputs": [
    {
     "data": {
      "text/plain": [
       "{\n",
       "    \"columns\": {\n",
       "        \"tweet_id\": {\n",
       "            \"sdtype\": \"numerical\"\n",
       "        },\n",
       "        \"text_info\": {\n",
       "            \"sdtype\": \"categorical\"\n",
       "        },\n",
       "        \"text_info_conf\": {\n",
       "            \"sdtype\": \"numerical\"\n",
       "        },\n",
       "        \"text_human\": {\n",
       "            \"sdtype\": \"categorical\"\n",
       "        },\n",
       "        \"text_human_conf\": {\n",
       "            \"sdtype\": \"numerical\"\n",
       "        },\n",
       "        \"tweet_text\": {\n",
       "            \"sdtype\": \"categorical\"\n",
       "        },\n",
       "        \"category\": {\n",
       "            \"sdtype\": \"categorical\"\n",
       "        }\n",
       "    },\n",
       "    \"METADATA_SPEC_VERSION\": \"SINGLE_TABLE_V1\"\n",
       "}"
      ]
     },
     "execution_count": 9,
     "metadata": {},
     "output_type": "execute_result"
    }
   ],
   "source": [
    "metadata.detect_from_dataframe(data=synthetic_data)\n",
    "metadata"
   ]
  },
  {
   "cell_type": "code",
   "execution_count": 10,
   "metadata": {},
   "outputs": [
    {
     "name": "stdout",
     "output_type": "stream",
     "text": [
      "<class 'pandas.core.frame.DataFrame'>\n",
      "RangeIndex: 18000 entries, 0 to 17999\n",
      "Data columns (total 7 columns):\n",
      " #   Column           Non-Null Count  Dtype  \n",
      "---  ------           --------------  -----  \n",
      " 0   tweet_id         18000 non-null  int64  \n",
      " 1   text_info        18000 non-null  object \n",
      " 2   text_info_conf   18000 non-null  float64\n",
      " 3   text_human       18000 non-null  object \n",
      " 4   text_human_conf  18000 non-null  float64\n",
      " 5   tweet_text       18000 non-null  object \n",
      " 6   category         18000 non-null  object \n",
      "dtypes: float64(2), int64(1), object(4)\n",
      "memory usage: 984.5+ KB\n"
     ]
    }
   ],
   "source": [
    "synthetic_data.info()"
   ]
  },
  {
   "cell_type": "code",
   "execution_count": 11,
   "metadata": {},
   "outputs": [
    {
     "name": "stderr",
     "output_type": "stream",
     "text": [
      "/var/folders/b9/8j1qkty17r9244bwmgfs9kdc0000gn/T/ipykernel_50021/1093002169.py:7: UserWarning: Matplotlib is currently using module://matplotlib_inline.backend_inline, which is a non-GUI backend, so cannot show the figure.\n",
      "  fig.show()\n"
     ]
    },
    {
     "data": {
      "image/png": "[encoded data removed]",
      "text/plain": [
       "<Figure size 640x480 with 2 Axes>"
      ]
     },
     "metadata": {},
     "output_type": "display_data"
    }
   ],
   "source": [
    "import seaborn as sns\n",
    "\n",
    "fig, ax =plt.subplots(2,1)\n",
    "# sns.countplot(data=df_final, x='category', ax=ax[0], color='#0000CD', width=0.3).set_title('Real')\n",
    "sns.countplot(data=synthetic_data, x='category', ax=ax[1], color='#0000CD', width=0.3).set_title('Synthetic')\n",
    "\n",
    "fig.show()"
   ]
  },
  {
   "cell_type": "code",
   "execution_count": 12,
   "metadata": {},
   "outputs": [],
   "source": [
    "import logging\n",
    "import pandas as pd\n",
    "import numpy as np\n",
    "from numpy import random\n",
    "import gensim\n",
    "import nltk\n",
    "from sklearn.model_selection import train_test_split\n",
    "from sklearn.feature_extraction.text import CountVectorizer, TfidfVectorizer\n",
    "from sklearn.metrics import accuracy_score, confusion_matrix\n",
    "import matplotlib.pyplot as plt\n",
    "from nltk.corpus import stopwords\n",
    "import re\n",
    "from bs4 import BeautifulSoup\n",
    "\n",
    "%matplotlib inline"
   ]
  },
  {
   "cell_type": "code",
   "execution_count": 13,
   "metadata": {},
   "outputs": [
    {
     "data": {
      "text/plain": [
       "0        I just had to evacuate my home in California d...\n",
       "1        While SFWMD's EOC remains activated to focus o...\n",
       "2        RT @KleinISD: Hurricane Harvey Update from Kle...\n",
       "3        CONGRATS ON HITTING YOIR GOAL GUYS, I'm sure t...\n",
       "4        Please join us in prayer for first responders ...\n",
       "                               ...                        \n",
       "17995    CONGRATS ON HITTING YOIR GOAL GUYS, I'm sure t...\n",
       "17996    RT @femaregion4: #FL, don't wait to clean up s...\n",
       "17997    Despair as death toll jumps after massive #Ira...\n",
       "17998    RT @democracynow: Mexico: Earthquake Death Tol...\n",
       "17999    I'm at RsN Ing. Planta industrial in Fernando ...\n",
       "Name: tweet_text, Length: 18000, dtype: object"
      ]
     },
     "execution_count": 13,
     "metadata": {},
     "output_type": "execute_result"
    }
   ],
   "source": [
    "synthetic_data['tweet_text']"
   ]
  },
  {
   "cell_type": "code",
   "execution_count": 14,
   "metadata": {},
   "outputs": [
    {
     "name": "stderr",
     "output_type": "stream",
     "text": [
      "/var/folders/b9/8j1qkty17r9244bwmgfs9kdc0000gn/T/ipykernel_50021/905062806.py:11: MarkupResemblesLocatorWarning: The input looks more like a filename than markup. You may want to open this file and pass the filehandle into Beautiful Soup.\n",
      "  text = BeautifulSoup(text, \"lxml\").text # HTML decoding\n"
     ]
    },
    {
     "data": {
      "text/plain": [
       "0        evacuate home california due wildfire obviousl...\n",
       "1        sfwmds eoc remains activated focus #irma recov...\n",
       "2        rt kleinisd hurricane harvey update klein isd ...\n",
       "3        congrats hitting yoir goal guys im sure victim...\n",
       "4        please join us prayer first responders impacte...\n",
       "                               ...                        \n",
       "17995    congrats hitting yoir goal guys im sure victim...\n",
       "17996    rt femaregion4 #fl dont wait clean storm damag...\n",
       "17997    despair death toll jumps massive #iran quake h...\n",
       "17998    rt democracynow mexico earthquake death toll 2...\n",
       "17999    im rsn ing planta industrial fernando de la mo...\n",
       "Name: tweet_text, Length: 18000, dtype: object"
      ]
     },
     "execution_count": 14,
     "metadata": {},
     "output_type": "execute_result"
    }
   ],
   "source": [
    "REPLACE_BY_SPACE_RE = re.compile('[/(){}\\[\\]\\|@,;]')\n",
    "BAD_SYMBOLS_RE = re.compile('[^0-9a-z #+_]')\n",
    "STOPWORDS = set(stopwords.words('english'))\n",
    "\n",
    "def clean_text(text):\n",
    "    \"\"\"\n",
    "        text: a string\n",
    "        \n",
    "        return: modified initial string\n",
    "    \"\"\"\n",
    "    text = BeautifulSoup(text, \"lxml\").text # HTML decoding\n",
    "    text = text.lower() # lowercase text\n",
    "    text = REPLACE_BY_SPACE_RE.sub(' ', text) # replace REPLACE_BY_SPACE_RE symbols by space in text\n",
    "    text = BAD_SYMBOLS_RE.sub('', text) # delete symbols which are in BAD_SYMBOLS_RE from text\n",
    "    text = ' '.join(word for word in text.split() if word not in STOPWORDS) # delete stopwors from text\n",
    "    return text\n",
    "    \n",
    "synthetic_data['tweet_text'] = synthetic_data['tweet_text'].apply(clean_text)\n",
    "synthetic_data['tweet_text']"
   ]
  },
  {
   "cell_type": "code",
   "execution_count": 15,
   "metadata": {},
   "outputs": [
    {
     "data": {
      "text/plain": [
       "245662"
      ]
     },
     "execution_count": 15,
     "metadata": {},
     "output_type": "execute_result"
    }
   ],
   "source": [
    "synthetic_data['tweet_text'].apply(lambda x: len(x.split(' '))).sum()"
   ]
  },
  {
   "cell_type": "code",
   "execution_count": 17,
   "metadata": {},
   "outputs": [],
   "source": [
    "X = synthetic_data.tweet_text\n",
    "y = synthetic_data.category\n",
    "X_train, X_test, y_train, y_test = train_test_split(X, y, test_size=0.3, random_state = 42)\n",
    "my_tags=['hurricane', 'wildfire', 'earthquake', 'flood']"
   ]
  },
  {
   "cell_type": "code",
   "execution_count": 18,
   "metadata": {},
   "outputs": [
    {
     "name": "stdout",
     "output_type": "stream",
     "text": [
      "accuracy 0.7570370370370371\n",
      "              precision    recall  f1-score   support\n",
      "\n",
      "   hurricane       0.84      0.21      0.33       670\n",
      "    wildfire       0.85      0.19      0.31       349\n",
      "  earthquake       0.75      0.99      0.86      3829\n",
      "       flood       0.80      0.15      0.26       552\n",
      "\n",
      "    accuracy                           0.76      5400\n",
      "   macro avg       0.81      0.39      0.44      5400\n",
      "weighted avg       0.77      0.76      0.69      5400\n",
      "\n",
      "CPU times: user 191 ms, sys: 16.2 ms, total: 207 ms\n",
      "Wall time: 214 ms\n"
     ]
    }
   ],
   "source": [
    "%%time\n",
    "from sklearn.naive_bayes import MultinomialNB\n",
    "from sklearn.pipeline import Pipeline\n",
    "from sklearn.feature_extraction.text import TfidfTransformer\n",
    "\n",
    "nb = Pipeline([('vect', CountVectorizer()),\n",
    "               ('tfidf', TfidfTransformer()),\n",
    "               ('clf', MultinomialNB()),\n",
    "              ])\n",
    "nb.fit(X_train, y_train)\n",
    "\n",
    "\n",
    "from sklearn.metrics import classification_report\n",
    "y_pred = nb.predict(X_test)\n",
    "\n",
    "print('accuracy %s' % accuracy_score(y_pred, y_test))\n",
    "print(classification_report(y_test, y_pred,target_names=my_tags))"
   ]
  },
  {
   "cell_type": "code",
   "execution_count": null,
   "metadata": {},
   "outputs": [],
   "source": []
  }
 ],
 "metadata": {
  "kernelspec": {
   "display_name": "Python 3 (ipykernel)",
   "language": "python",
   "name": "python3"
  },
  "language_info": {
   "codemirror_mode": {
    "name": "ipython",
    "version": 3
   },
   "file_extension": ".py",
   "mimetype": "text/x-python",
   "name": "python",
   "nbconvert_exporter": "python",
   "pygments_lexer": "ipython3",
   "version": "3.9.17"
  }
 },
 "nbformat": 4,
 "nbformat_minor": 1
}
